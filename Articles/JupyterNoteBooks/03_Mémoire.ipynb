{
 "cells": [
  {
   "cell_type": "markdown",
   "metadata": {},
   "source": [
    "# Pointeurs intelligents\n",
    "\n",
    "L'une des fonctionnalité majeure introduit par le C++11 est les smart pointers. C'est une reprise de la librairie BOOST. L'utilisation de pointeurs est indispensable à une bonne conception (observer, injection de dépendance, factory, ...). Or, la bonne gestion des pointeurs devient un casse-tête à partir du moment que le pointeur est partagé. \n",
    "\n",
    "## Utiliser std::unique_ptr pour la gestion d'une ressource à propriété exclusive\n",
    "\n",
    "Il remplace la précédente fonctionnalité `std::auto_ptr` qui souffrait des limites du C++98 (notion de déplacement inexistante, conteneurs non adaptés).\n",
    "`std::unique_ptr` est souvent utilisé comme type de retour dans les fonctions fabrique d'objet."
   ]
  },
  {
   "cell_type": "code",
   "execution_count": 1,
   "metadata": {},
   "outputs": [
    {
     "name": "stderr",
     "output_type": "stream",
     "text": [
      "Using raw input\n"
     ]
    },
    {
     "data": {
      "text/plain": []
     },
     "execution_count": 1,
     "metadata": {},
     "output_type": "execute_result"
    }
   ],
   "source": [
    ".rawInput"
   ]
  },
  {
   "cell_type": "code",
   "execution_count": 2,
   "metadata": {},
   "outputs": [
    {
     "data": {
      "text/plain": []
     },
     "execution_count": 2,
     "metadata": {},
     "output_type": "execute_result"
    }
   ],
   "source": [
    "#include <iostream>\n",
    "#include <string>\n",
    "#include <map>\n",
    "#include <memory>\n",
    "#include <functional>\n",
    "\n",
    "class Animal\n",
    "{\n",
    "public:\n",
    "    virtual ~Animal()\n",
    "    {\n",
    "        std::cout << \"Animal dort\" << std::endl;\n",
    "    }\n",
    "    virtual void crie() const = 0;\n",
    "};\n",
    "\n",
    "class Chien : public Animal\n",
    "{\n",
    "private:\n",
    "    std::string nom;\n",
    "public:\n",
    "    Chien()\n",
    "    : nom(\"Le chien\")\n",
    "    {}\n",
    "    Chien(const std::string& pNom)\n",
    "    : nom(pNom)\n",
    "    {}\n",
    "    virtual ~Chien() = default;\n",
    "    virtual void crie() const override\n",
    "    {\n",
    "        std::cout << nom << \" aboie\" << std::endl;\n",
    "    }\n",
    "};\n",
    "\n",
    "class Chat : public Animal\n",
    "{\n",
    "private:\n",
    "    std::string nom;\n",
    "public:\n",
    "    Chat()\n",
    "    : nom(\"Le chat\")\n",
    "    {}\n",
    "    Chat(const std::string& pNom)\n",
    "    : nom(pNom)\n",
    "    {}\n",
    "    virtual ~Chat() = default;\n",
    "    virtual void crie() const override\n",
    "    {\n",
    "        std::cout << nom << \" miaule\" << std::endl;\n",
    "    }\n",
    "};\n",
    "\n",
    "template <typename ...Ts>\n",
    "class FabriqueAnimal\n",
    "{\n",
    "private:   \n",
    "    using key_t = std::string;\n",
    "    using fabrique_t = std::function<std::unique_ptr<Animal>(Ts...)>;\n",
    "    std::map<key_t, fabrique_t> fabriqueMap;\n",
    "\n",
    "    template <typename T>\n",
    "    static auto creeFabrique()\n",
    "    {\n",
    "        return [](auto&& ...params){return std::make_unique<T>(std::forward<decltype(params)>(params)...);};\n",
    "    }\n",
    "  \n",
    "public:\n",
    "    FabriqueAnimal()\n",
    "    {\n",
    "        fabriqueMap[\"chien\"] = creeFabrique<Chien>();\n",
    "        fabriqueMap[\"chat\"] = creeFabrique<Chat>();\n",
    "    }\n",
    "    \n",
    "    std::unique_ptr<Animal> cree(const key_t& key, Ts&&... params) const\n",
    "    {\n",
    "        std::unique_ptr<Animal> animal = nullptr;\n",
    "        const auto it = fabriqueMap.find(key);\n",
    "        if (it != fabriqueMap.end())\n",
    "        {\n",
    "            animal = it->second(std::forward<Ts>(params)...);\n",
    "        }\n",
    "        return animal;\n",
    "    }\n",
    "};"
   ]
  },
  {
   "cell_type": "code",
   "execution_count": 3,
   "metadata": {},
   "outputs": [
    {
     "name": "stderr",
     "output_type": "stream",
     "text": [
      "Not using raw input\n"
     ]
    },
    {
     "data": {
      "text/plain": []
     },
     "execution_count": 3,
     "metadata": {},
     "output_type": "execute_result"
    }
   ],
   "source": [
    ".rawInput"
   ]
  },
  {
   "cell_type": "code",
   "execution_count": 4,
   "metadata": {},
   "outputs": [
    {
     "name": "stdout",
     "output_type": "stream",
     "text": [
      "Le chien aboie\n",
      "Animal dort\n",
      "\n",
      "nyan cat miaule\n",
      "Animal dort\n"
     ]
    },
    {
     "data": {
      "text/plain": [
       "(void) @0x7fbf68825b18\n"
      ]
     },
     "execution_count": 4,
     "metadata": {},
     "output_type": "execute_result"
    }
   ],
   "source": [
    "{\n",
    "    const FabriqueAnimal<> animalerie;\n",
    "    const std::unique_ptr<Animal> dog = animalerie.cree(\"chien\");\n",
    "    dog->crie();\n",
    "}\n",
    "\n",
    "std::cout << std::endl;\n",
    "\n",
    "using FabriqueAnimalNomme = FabriqueAnimal<std::string>;\n",
    "const FabriqueAnimalNomme refuge;\n",
    "refuge.cree(\"chat\", \"nyan cat\")->crie();"
   ]
  },
  {
   "cell_type": "markdown",
   "metadata": {},
   "source": [
    "## Utiliser std::shared_ptr pour la gestion d'une ressource à propriété partagée\n",
    "\n",
    "Un peu plus volumineux que `std::unique_ptr`, la fonctionnalité `std::shared_ptr` s'avère d'une grande efficacité lorsqu'il faut partager des pointeurs."
   ]
  },
  {
   "cell_type": "code",
   "execution_count": 5,
   "metadata": {},
   "outputs": [
    {
     "name": "stdout",
     "output_type": "stream",
     "text": [
      "Animal dort\n",
      "nyan cat miaule\n",
      "duck hunt dog aboie\n"
     ]
    },
    {
     "data": {
      "text/plain": []
     },
     "execution_count": 5,
     "metadata": {},
     "output_type": "execute_result"
    }
   ],
   "source": [
    "using vector_ptr_t = std::vector<std::shared_ptr<Animal>>;\n",
    "vector_ptr_t vaccine;\n",
    "{\n",
    "    vector_ptr_t animaux;\n",
    "    animaux.push_back(refuge.cree(\"chat\", \"nyan cat\"));\n",
    "    animaux.push_back(refuge.cree(\"chien\", \"duck hunt dog\"));\n",
    "\n",
    "    // copie des pointeurs\n",
    "    for(auto&& animal : animaux)\n",
    "    {\n",
    "        vaccine.push_back(animal);\n",
    "    }\n",
    "    animaux.push_back(refuge.cree(\"chien\", \"lassie\"));\n",
    "}\n",
    "for(auto&& animal : vaccine)\n",
    "{\n",
    "    animal->crie();\n",
    "}"
   ]
  },
  {
   "cell_type": "markdown",
   "metadata": {},
   "source": [
    "__Remarque__: Il faut toutefois faire attention lors de l'utilisation de pointeurs bruts (exemple: `this`). Cependant, la STL propose des mécanismes pour manier ces pointeurs en toute fiabilité (`std::enable_shared_from_this`)."
   ]
  },
  {
   "cell_type": "markdown",
   "metadata": {},
   "source": [
    "## Utiliser std::weak_ptr pour les pointeurs partagés std::shared_ptr qui peuvent pendouiller\n",
    "\n",
    "Les pointeurs sont aussi très utilisés dans le pattern observer. Ce pattern a pour particularité de conserver un pointeur sur l'objet observer mais sans pour autant détenir la ressource. Cependant, les observables doivent s'assurer que le pointeur n'est pas détruit avant d'y accéder. `std::weak_ptr` répond parfaitement à cette double exigence. \n",
    "\n",
    "Ce type de pointeur est aussi très utilisé pour la création de cache (Des pointeurs sont mémorisés afin d'éviter une répetition de construction-destruction d'un même objet)."
   ]
  },
  {
   "cell_type": "code",
   "execution_count": 6,
   "metadata": {},
   "outputs": [
    {
     "name": "stdout",
     "output_type": "stream",
     "text": [
      "Hello\n"
     ]
    },
    {
     "data": {
      "text/plain": [
       "(void) @0x7fbf68825b18\n"
      ]
     },
     "execution_count": 6,
     "metadata": {},
     "output_type": "execute_result"
    }
   ],
   "source": [
    "class Notifier\n",
    "{\n",
    "public:\n",
    "    virtual ~Notifier() = default;\n",
    "    virtual void Notify() = 0;\n",
    "};\n",
    "\n",
    "class HelloNotification : public Notifier\n",
    "{\n",
    "public:\n",
    "    HelloNotification()\n",
    "    {}\n",
    "    \n",
    "    virtual void Notify() override\n",
    "    {\n",
    "        std::cout << \"Hello\" << std::endl;\n",
    "    }\n",
    "};\n",
    "\n",
    "class BonjourNotification : public Notifier\n",
    "{\n",
    "public:\n",
    "    BonjourNotification()\n",
    "    {}\n",
    "    \n",
    "    virtual void Notify() override\n",
    "    {\n",
    "        std::cout << \"Bonjour\" << std::endl;\n",
    "    }\n",
    "};\n",
    "\n",
    "class Subject\n",
    "{\n",
    "private:\n",
    "    using vector_ptr = std::vector<std::weak_ptr<Notifier>>; \n",
    "    vector_ptr notifiers;\n",
    "    \n",
    "    void NotifyAll()\n",
    "    {\n",
    "        // Notifier tous les observers\n",
    "        for (auto&& n : notifiers)\n",
    "        {\n",
    "            std::shared_ptr<Notifier> ptr = n.lock();\n",
    "            if (ptr != nullptr)\n",
    "            {\n",
    "                ptr->Notify();\n",
    "            }\n",
    "        }\n",
    "    }\n",
    "public:\n",
    "    Subject()\n",
    "    {}\n",
    "    \n",
    "    void Add(const std::weak_ptr<Notifier>& n)\n",
    "    {\n",
    "        notifiers.push_back(n);\n",
    "    }\n",
    "    \n",
    "    void Change()\n",
    "    {\n",
    "        NotifyAll();\n",
    "    }\n",
    "    \n",
    "    // Méthode de désenregistrement \n",
    "    // ... \n",
    "};\n",
    "\n",
    "Subject s;\n",
    "std::shared_ptr<Notifier> a = std::make_shared<HelloNotification>();\n",
    "s.Add(a);\n",
    "{\n",
    "    // Execution sur un autre thread\n",
    "    std::shared_ptr<Notifier> b = std::make_shared<BonjourNotification>();\n",
    "    s.Add(b);\n",
    "}\n",
    "s.Change();"
   ]
  },
  {
   "cell_type": "markdown",
   "metadata": {},
   "source": [
    "## Utiliser std::make_unique et std::make_shared à la place de new\n",
    "\n",
    "Pour deux raisons principalement :\n",
    " - c'est plus simple à écrire `std::make_shared<Objet>()` que `std::shared_ptr<Objet>(new Objet())`\n",
    " - c'est plus sûre vis à vis des exceptions. Par exemple, le code suivant produit une fuite mémoire si une exception se produit lors de l'évaluation de `getCategory()` : \n",
    " \n",
    " `log(std::shared_ptr<String>(new String(\"Erreur\")), getCategory())` \n",
    " \n",
    " L'évaluation de `new String(\"Erreur\")` est réalisée avant `getCategory()` et `std::shared_ptr()`."
   ]
  },
  {
   "cell_type": "markdown",
   "metadata": {},
   "source": [
    "## Utiliser les deleters personnalisés pour la libération de ressource qui ne se fait pas par delete\n",
    "Les librairies C ou les bibliothèques graphiques disposent généralement de fonctions de création et de destruction d'objets. Les pointeurs intelligents permettent de définir l'appel à une fonction de destruction personnalisée.\n",
    "\n",
    "Le conseil précédent indique d'utiliser une fonction de création à la place du constructeur de `std::shared_ptr` ou de `std::unique_ptr`. Heureusement, l'implémentation d'une méthode de création est assez simple."
   ]
  },
  {
   "cell_type": "code",
   "execution_count": 7,
   "metadata": {},
   "outputs": [
    {
     "name": "stderr",
     "output_type": "stream",
     "text": [
      "Using raw input\n"
     ]
    },
    {
     "data": {
      "text/plain": []
     },
     "execution_count": 7,
     "metadata": {},
     "output_type": "execute_result"
    }
   ],
   "source": [
    ".rawInput"
   ]
  },
  {
   "cell_type": "code",
   "execution_count": 8,
   "metadata": {},
   "outputs": [
    {
     "data": {
      "text/plain": []
     },
     "execution_count": 8,
     "metadata": {},
     "output_type": "execute_result"
    }
   ],
   "source": [
    "template <typename T>\n",
    "void delete_with_log(T* ptr)\n",
    "{\n",
    "    std::cout << \"Destruction \" << *ptr << std::endl; \n",
    "    delete ptr;\n",
    "}\n",
    "\n",
    "template <typename T>\n",
    "using unique_log_ptr = std::unique_ptr<T,decltype(&delete_with_log<T>)>;\n",
    "\n",
    "template <typename T, typename ...Ts>\n",
    "unique_log_ptr<T> make_unique_with_log(Ts&&... params)\n",
    "{\n",
    "    return unique_log_ptr<T>(new T(std::forward<Ts>(params)...), &delete_with_log<T>);\n",
    "}\n",
    "\n",
    "// pour un shared_ptr, la syntaxe est plus simple\n",
    "template <typename T, typename ...Ts>\n",
    "std::shared_ptr<T> make_shared_with_log(Ts&&... params)\n",
    "{\n",
    "    return std::shared_ptr<T>(new T(std::forward<Ts>(params)...), &delete_with_log<T>);\n",
    "}"
   ]
  },
  {
   "cell_type": "code",
   "execution_count": 9,
   "metadata": {},
   "outputs": [
    {
     "name": "stderr",
     "output_type": "stream",
     "text": [
      "Not using raw input\n"
     ]
    },
    {
     "data": {
      "text/plain": []
     },
     "execution_count": 9,
     "metadata": {},
     "output_type": "execute_result"
    }
   ],
   "source": [
    ".rawInput"
   ]
  },
  {
   "cell_type": "code",
   "execution_count": 10,
   "metadata": {},
   "outputs": [
    {
     "name": "stdout",
     "output_type": "stream",
     "text": [
      "Destruction 42\n",
      "Destruction 00\n"
     ]
    },
    {
     "data": {
      "text/plain": [
       "(std::shared_ptr<std::basic_string<char, std::char_traits<char>, std::allocator<char> > >) @0x7fbf4a21e1a0\n"
      ]
     },
     "execution_count": 10,
     "metadata": {},
     "output_type": "execute_result"
    }
   ],
   "source": [
    "make_unique_with_log<int>(42);\n",
    "make_shared_with_log<std::string>(2, '0');"
   ]
  },
  {
   "cell_type": "code",
   "execution_count": null,
   "metadata": {},
   "outputs": [],
   "source": []
  }
 ],
 "metadata": {
  "kernelspec": {
   "display_name": "C++17",
   "language": "C++",
   "name": "cling-cpp17"
  },
  "language_info": {
   "codemirror_mode": "c++",
   "file_extension": ".c++",
   "mimetype": "text/x-c++src",
   "name": "c++"
  }
 },
 "nbformat": 4,
 "nbformat_minor": 2
}
