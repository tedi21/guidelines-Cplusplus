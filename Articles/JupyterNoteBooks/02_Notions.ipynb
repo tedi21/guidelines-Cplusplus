{
 "cells": [
  {
   "cell_type": "markdown",
   "metadata": {},
   "source": [
    "# Notions abordées\n",
    "\n",
    "A travers les exemples, plusieurs notions seront abordées de manières récurrentes. Ces notions sont importantes dans le langage C++. \n",
    "\n",
    "## Comprendre le déplacement et les références rvalue\n",
    "La notion la plus complexe à appréhender est sans doute les références rvalue. Les références rvalue sont utilisées pour permettre le déplacement d'objet. En C++98, il existe une fonction `std::swap` qui permet l'échange de valeur. Par exemple, `int a[5] = { 1, 2, 3, 4, 5}, b[5] = {}; std::swap(a,b);` permet de *déplacer* le tableau *a* vers le tableau *b*. Cette fonction peut être surchargée pour tous types, elle évite une copie et elle permet de transférer un objet qui n'a pas volonté à être dupliqué (via une relation d'amitié `friend`). A partir du C++11, l'idée de déplacer un objet a été généralisée et modernisée grâce à la notation `&&`. Une référence rvalue s'accompagne toujours de la fonction `std::move`. La fonction `std::move` s'apparente à un cast en référence rvalue. Le déplacement est généralement implémenté pour des objets proposant des services de recopie de gros objets ou pour des objets détenant une ressource unique (mutex, thread, ...) à l'aide : \n",
    " - du constructeur de déplacement: class(class&&)\n",
    " - de l'opérateur de déplacement: class& operator=(class&&)"
   ]
  },
  {
   "cell_type": "code",
   "execution_count": 1,
   "metadata": {},
   "outputs": [
    {
     "name": "stderr",
     "output_type": "stream",
     "text": [
      "Using raw input\n"
     ]
    },
    {
     "data": {
      "text/plain": []
     },
     "execution_count": 1,
     "metadata": {},
     "output_type": "execute_result"
    }
   ],
   "source": [
    ".rawInput"
   ]
  },
  {
   "cell_type": "code",
   "execution_count": 2,
   "metadata": {},
   "outputs": [
    {
     "data": {
      "text/plain": []
     },
     "execution_count": 2,
     "metadata": {},
     "output_type": "execute_result"
    }
   ],
   "source": [
    "#include <iostream>\n",
    "#include <array>\n",
    "#include <memory>\n",
    "\n",
    "class Buffer\n",
    "{\n",
    "private:\n",
    "    using array_int5_t = std::array<int,5>;\n",
    "    array_int5_t tableau;\n",
    "public:   \n",
    "    // Constructeur prenant une référence lvalue\n",
    "    Buffer(const array_int5_t& a)\n",
    "    : tableau(a)\n",
    "    {\n",
    "        std::cout << \"copie de tableau\" << std::endl;\n",
    "    }\n",
    "    \n",
    "    // Constructeur prenant une référence rvalue\n",
    "    Buffer(array_int5_t&& a)\n",
    "    : tableau(std::move(a))\n",
    "    {\n",
    "        std::cout << \"déplacement de tableau\" << std::endl;\n",
    "    }\n",
    "    \n",
    "    // Constructeur par recopie\n",
    "    Buffer(const Buffer& b)\n",
    "    :tableau(b.tableau)\n",
    "    {\n",
    "        std::cout << \"recopie de buffer\" << std::endl;\n",
    "    }\n",
    "    \n",
    "    // Constructeur par déplacement\n",
    "    Buffer(Buffer&& b)\n",
    "    :tableau(std::move(b.tableau))\n",
    "    {\n",
    "        std::cout << \"déplacement de buffer\" << std::endl;\n",
    "    }\n",
    "};\n",
    "             \n",
    "Buffer createBuffer()\n",
    "{\n",
    "    return {{1,2,3,4,5}};    \n",
    "}\n"
   ]
  },
  {
   "cell_type": "code",
   "execution_count": 3,
   "metadata": {},
   "outputs": [
    {
     "name": "stderr",
     "output_type": "stream",
     "text": [
      "Not using raw input\n"
     ]
    },
    {
     "data": {
      "text/plain": []
     },
     "execution_count": 3,
     "metadata": {},
     "output_type": "execute_result"
    }
   ],
   "source": [
    ".rawInput"
   ]
  },
  {
   "cell_type": "code",
   "execution_count": 4,
   "metadata": {},
   "outputs": [
    {
     "name": "stdout",
     "output_type": "stream",
     "text": [
      "b1 copie de tableau\n",
      "b2 déplacement de tableau\n",
      "b3 déplacement de tableau\n",
      "b4 recopie de buffer\n",
      "b5 déplacement de tableau\n",
      "déplacement de buffer\n"
     ]
    },
    {
     "data": {
      "text/plain": [
       "(std::_MakeUniq<Buffer>::__single_object) @0x7f1551042fb0\n"
      ]
     },
     "execution_count": 4,
     "metadata": {},
     "output_type": "execute_result"
    }
   ],
   "source": [
    "std::array<int,5> a{1, 2, 3, 4, 5};\n",
    "\n",
    "std::cout << \"b1 \";\n",
    "Buffer b1(a);\n",
    "\n",
    "std::cout << \"b2 \";\n",
    "Buffer b2({1, 2, 3, 4 , 5});\n",
    "\n",
    "std::cout << \"b3 \";\n",
    "Buffer b3(createBuffer()); // RVO : return value optimization\n",
    "\n",
    "std::cout << \"b4 \";\n",
    "Buffer b4(b1);\n",
    "\n",
    "std::cout << \"b5 \";\n",
    "std::make_unique<Buffer>(createBuffer()); // Déplacement du tableau dans un buffer, puis du buffer dans un pointeur."
   ]
  },
  {
   "cell_type": "markdown",
   "metadata": {},
   "source": [
    "__Remarque__: Un objet est déplacé seulement si celui-ci est éligible au déplacement. Par exemple, un objet `const` ou les anciennes classes implémentées en C++98 ne sont pas éligibles au déplacement. Une opération de copie est réalisée à la place.\n",
    "\n",
    "__Remarque 2__: Un retour de fonction est toujours optimisé par le compilateur. Il ne faut jamais définir de rvalue sur les retours de fonction."
   ]
  },
  {
   "cell_type": "code",
   "execution_count": 5,
   "metadata": {},
   "outputs": [
    {
     "name": "stdout",
     "output_type": "stream",
     "text": [
      "b6 déplacement de tableau\n",
      "recopie de buffer\n"
     ]
    },
    {
     "data": {
      "text/plain": [
       "(std::_MakeUniq<Buffer>::__single_object) @0x7f15510ad430\n"
      ]
     },
     "execution_count": 5,
     "metadata": {},
     "output_type": "execute_result"
    }
   ],
   "source": [
    "const Buffer createConstBuffer()\n",
    "{\n",
    "    return {{1,2,3,4,5}};    \n",
    "}\n",
    "std::cout << \"b6 \";\n",
    "std::make_unique<Buffer>(createConstBuffer());"
   ]
  },
  {
   "cell_type": "markdown",
   "metadata": {},
   "source": [
    "## Comprendre la transmission parfaite et les références universelles\n",
    "L'utilisation des *template* dans des concepts de métaprogrammation a fait émerger une nouvelle problématique : la transmission parfaite des arguments. Pour palier à cet problématique, la notation `&&` pour un argument template ou pour une variable `auto` signifie que la variable est une référence universelle. Celle-ci indique que la variable peut être soit une référence lvalue ou soit une référence rvalue. Le type de référence est défini par l'appelant. Une référence universelle s'accompagne toujours de la fonction `std::forward`."
   ]
  },
  {
   "cell_type": "code",
   "execution_count": 6,
   "metadata": {},
   "outputs": [
    {
     "name": "stderr",
     "output_type": "stream",
     "text": [
      "Using raw input\n"
     ]
    },
    {
     "data": {
      "text/plain": []
     },
     "execution_count": 6,
     "metadata": {},
     "output_type": "execute_result"
    }
   ],
   "source": [
    ".rawInput"
   ]
  },
  {
   "cell_type": "code",
   "execution_count": 7,
   "metadata": {},
   "outputs": [
    {
     "data": {
      "text/plain": []
     },
     "execution_count": 7,
     "metadata": {},
     "output_type": "execute_result"
    }
   ],
   "source": [
    "int *m = nullptr;\n",
    "\n",
    "// Plusieurs fonctions de mémorisation de données en fonction de son type\n",
    "void memPtr(int& a)\n",
    "{\n",
    "    m = &a;\n",
    "}\n",
    "\n",
    "void memVal(int a)\n",
    "{}\n",
    "\n",
    "// Une fonction template réalisant le lock de la données avant d'appeler la fonction de mémorisation\n",
    "template <typename FctT, typename T>\n",
    "void lockAndMem(FctT fct, T a)\n",
    "{\n",
    "    // appel à la fonction de lock, puis appel à la fonction de mémorisation\n",
    "    fct(a);\n",
    "}\n",
    "\n",
    "// Même template mais avec une référence lvalue\n",
    "template <typename FctT, typename T>\n",
    "void lockAndMemRef(FctT fct, T& a)\n",
    "{\n",
    "    // appel à la fonction de lock, puis appel à la fonction de mémorisation\n",
    "    fct(a);\n",
    "}\n",
    "\n",
    "// Même template mais avec une référence univeselle\n",
    "template <typename FctT, typename T>\n",
    "void lockAndMemUni(FctT fct, T&& a)\n",
    "{\n",
    "    // appel à la fonction de lock, puis appel à la fonction de mémorisation\n",
    "    fct(std::forward<T>(a));\n",
    "}"
   ]
  },
  {
   "cell_type": "code",
   "execution_count": 8,
   "metadata": {},
   "outputs": [
    {
     "name": "stderr",
     "output_type": "stream",
     "text": [
      "Not using raw input\n"
     ]
    },
    {
     "data": {
      "text/plain": []
     },
     "execution_count": 8,
     "metadata": {},
     "output_type": "execute_result"
    }
   ],
   "source": [
    ".rawInput"
   ]
  },
  {
   "cell_type": "code",
   "execution_count": 9,
   "metadata": {},
   "outputs": [
    {
     "name": "stdout",
     "output_type": "stream",
     "text": [
      "mauvaise sauvegarde : pointeur sur une variable locale\n",
      "bonne sauvegarde\n"
     ]
    },
    {
     "data": {
      "text/plain": []
     },
     "execution_count": 9,
     "metadata": {},
     "output_type": "execute_result"
    }
   ],
   "source": [
    "int i = 10;\n",
    "lockAndMem(&memPtr, i);\n",
    "if (m != &i) std::cout << \"mauvaise sauvegarde : pointeur sur une variable locale\" << std::endl;\n",
    "\n",
    "// Cela ne fonctionne pas, ajoutons une référence au template\n",
    "lockAndMemRef(&memPtr, i);\n",
    "if (m == &i) std::cout << \"bonne sauvegarde\" << std::endl;  \n"
   ]
  },
  {
   "cell_type": "code",
   "execution_count": 10,
   "metadata": {},
   "outputs": [
    {
     "data": {
      "text/plain": []
     },
     "execution_count": 10,
     "metadata": {},
     "output_type": "execute_result"
    }
   ],
   "source": [
    "//lockAndMemRef(&memVal, 10); // Echoue car 10 est une rvalue."
   ]
  },
  {
   "cell_type": "code",
   "execution_count": 11,
   "metadata": {},
   "outputs": [
    {
     "name": "stdout",
     "output_type": "stream",
     "text": [
      "bonne sauvegarde\n"
     ]
    },
    {
     "data": {
      "text/plain": [
       "(void) @0x7f156b7fcb18\n"
      ]
     },
     "execution_count": 11,
     "metadata": {},
     "output_type": "execute_result"
    }
   ],
   "source": [
    "// Fonctionne dans tous les cas\n",
    "lockAndMemUni(&memPtr, i);\n",
    "if (m == &i) std::cout << \"bonne sauvegarde\" << std::endl; \n",
    "lockAndMemUni(&memVal, 10);"
   ]
  },
  {
   "cell_type": "markdown",
   "metadata": {},
   "source": [
    "## Comprendre auto\n",
    "\n",
    "Le mot clé `auto` indique que l'on laisse le compilateur déduire le type. Le livre *Programmer efficacement en C++, ScottMeyers* donne le conseil de préférer l'utilisation de `auto` aux déclarations de type explicite. Afin de ne pas nuire à la lisibilité du code, il semble raisonnable de dire \"préférer l'utilisation de `auto` aux déclarations de type explicite pour les types complexes\". Une variable `auto` nécessite d'être initialisée (normal puisque le compilateur doit déduire son type). Outre l'avantage de forcer le developpeur à initialiser ses variables avec une valeur, les avantages sont :\n",
    " - de faciliter la syntaxe de types complexes comme les types à l'intérieur des conteneurs de la STL.\n",
    " - de creer des variables à partir d'expressions lambdas\n",
    " - d'éviter les erreurs de types introduisant des conversions implicites (et donc une baisse des performances)"
   ]
  },
  {
   "cell_type": "code",
   "execution_count": 12,
   "metadata": {},
   "outputs": [
    {
     "name": "stderr",
     "output_type": "stream",
     "text": [
      "Using raw input\n"
     ]
    },
    {
     "data": {
      "text/plain": []
     },
     "execution_count": 12,
     "metadata": {},
     "output_type": "execute_result"
    }
   ],
   "source": [
    ".rawInput"
   ]
  },
  {
   "cell_type": "code",
   "execution_count": 13,
   "metadata": {},
   "outputs": [
    {
     "data": {
      "text/plain": []
     },
     "execution_count": 13,
     "metadata": {},
     "output_type": "execute_result"
    }
   ],
   "source": [
    "#include <iostream>\n",
    "#include <typeinfo>\n",
    "#include <memory>\n",
    "#include <unordered_map>\n",
    "#include <functional>\n",
    "\n",
    "#include <cxxabi.h>\n",
    "std::string demangle( const char* mangled_name ) \n",
    "{\n",
    "    std::size_t len = 0 ;\n",
    "    int status = 0 ;\n",
    "    std::unique_ptr< char, decltype(&std::free) > ptr(\n",
    "                __cxxabiv1::__cxa_demangle( mangled_name, nullptr, &len, &status ), &std::free ) ;\n",
    "    return ptr.get() ;\n",
    "}\n",
    "\n",
    "struct example\n",
    "{\n",
    "    int val;\n",
    "    \n",
    "    example(int a)\n",
    "    : val(a)\n",
    "    {}\n",
    "    example(const example& o)\n",
    "    : val(o.val)\n",
    "    {\n",
    "        std::cout << \"copie\" << std::endl;\n",
    "    }\n",
    "    ~example()\n",
    "    {\n",
    "        std::cout << \"destruction\" << std::endl;\n",
    "    }\n",
    "    \n",
    "    bool operator==(const example& o) const\n",
    "    {\n",
    "        return val == o.val;\n",
    "    }\n",
    "};\n",
    "\n",
    "namespace std\n",
    "{\n",
    "    template <> \n",
    "    struct hash<example>\n",
    "    {\n",
    "        size_t operator()(const example& x) const\n",
    "        {\n",
    "            return hash<int>()(x.val);\n",
    "        }\n",
    "    };\n",
    "}"
   ]
  },
  {
   "cell_type": "code",
   "execution_count": 14,
   "metadata": {},
   "outputs": [
    {
     "name": "stderr",
     "output_type": "stream",
     "text": [
      "Not using raw input\n"
     ]
    },
    {
     "data": {
      "text/plain": []
     },
     "execution_count": 14,
     "metadata": {},
     "output_type": "execute_result"
    }
   ],
   "source": [
    ".rawInput"
   ]
  },
  {
   "cell_type": "code",
   "execution_count": 15,
   "metadata": {},
   "outputs": [
    {
     "name": "stdout",
     "output_type": "stream",
     "text": [
      "Type lambda : __cling_Un1Qu37(void*)::$_0\n",
      "\n",
      "Type du contenu dans umap : std::pair<example const, std::__cxx11::basic_string<char, std::char_traits<char>, std::allocator<char> > >\n",
      "Type du contenu dans umap : std::pair<example const, std::__cxx11::basic_string<char, std::char_traits<char>, std::allocator<char> > >\n",
      "\n",
      "Conversion implicite dûe à une erreur de type : \n",
      "copie\n",
      "destruction\n",
      "copie\n",
      "destruction\n"
     ]
    },
    {
     "data": {
      "text/plain": []
     },
     "execution_count": 15,
     "metadata": {},
     "output_type": "execute_result"
    }
   ],
   "source": [
    "auto base = 0;\n",
    "auto lambda = [&base](int a, int b) { return (a + b) % base;};\n",
    "std::cout << \"Type lambda : \" << demangle(typeid(lambda).name()) << std::endl << std::endl;\n",
    "\n",
    "std::unordered_map<example,std::string> umap;\n",
    "umap.insert(std::make_pair(21, \"Hello\"));\n",
    "umap.insert(std::make_pair(28, \"World\"));\n",
    "// Transmission parfaite du type contenu dans umap\n",
    "for (auto&& elem : umap)\n",
    "{\n",
    "    std::cout << \"Type du contenu dans umap : \" << demangle(typeid(elem).name()) << std::endl;\n",
    "}\n",
    "\n",
    "std::cout << std::endl << \"Conversion implicite dûe à une erreur de type : \" << std::endl;\n",
    "\n",
    "// le type de elem est std::pair<const example, std::string>\n",
    "// de manière naïve, on aurait pu écrire : \n",
    "\n",
    "for (const std::pair<example, std::string>& elem : umap)\n",
    "{\n",
    "    // Récupération d'un pointeur sur une variable locale alors que l'on \n",
    "    // croit récupérer un pointeur sur l'élément contenu\n",
    "    \n",
    "    const std::pair<example, std::string>* ptr = &elem;\n",
    "}"
   ]
  },
  {
   "cell_type": "markdown",
   "metadata": {},
   "source": [
    "## Comprendre nullptr\n",
    "Le mot clé `nullptr` permet d'indiquer un pointeur nul. A la différence de NULL qui est de type `int`, `nullptr` est de type pointeur. Il est donc indispensable d'utiliser `nullptr` pour bénéficier de la déduction des types."
   ]
  },
  {
   "cell_type": "code",
   "execution_count": 16,
   "metadata": {},
   "outputs": [
    {
     "name": "stderr",
     "output_type": "stream",
     "text": [
      "Using raw input\n"
     ]
    },
    {
     "data": {
      "text/plain": []
     },
     "execution_count": 16,
     "metadata": {},
     "output_type": "execute_result"
    }
   ],
   "source": [
    ".rawInput"
   ]
  },
  {
   "cell_type": "code",
   "execution_count": 17,
   "metadata": {},
   "outputs": [
    {
     "data": {
      "text/plain": []
     },
     "execution_count": 17,
     "metadata": {},
     "output_type": "execute_result"
    }
   ],
   "source": [
    "template <typename FctT, typename T>\n",
    "void logAndCall(FctT fct, T&& ptr)\n",
    "{\n",
    "    // appel à la fonction de log, puis appel à la fonction en paramètre\n",
    "    fct(std::forward<T>(ptr));\n",
    "}\n",
    "\n",
    "void deletePtr(int* ptr)\n",
    "{}"
   ]
  },
  {
   "cell_type": "code",
   "execution_count": 18,
   "metadata": {},
   "outputs": [
    {
     "name": "stderr",
     "output_type": "stream",
     "text": [
      "Not using raw input\n"
     ]
    },
    {
     "data": {
      "text/plain": []
     },
     "execution_count": 18,
     "metadata": {},
     "output_type": "execute_result"
    }
   ],
   "source": [
    ".rawInput"
   ]
  },
  {
   "cell_type": "code",
   "execution_count": 19,
   "metadata": {},
   "outputs": [
    {
     "data": {
      "text/plain": [
       "(void) @0x7f156b7fcb18\n"
      ]
     },
     "execution_count": 19,
     "metadata": {},
     "output_type": "execute_result"
    }
   ],
   "source": [
    "logAndCall(deletePtr, nullptr);\n",
    "//logAndCall(deletePtr, NULL); //échoue car NULL n'est pas un pointeur"
   ]
  },
  {
   "cell_type": "markdown",
   "metadata": {},
   "source": [
    "## Comprendre la génération des fonctions membres spéciales\n",
    "\n",
    "Les fonctions membres spéciales sont les fonctions générées automatiquement par le compilateur. On en connaît déjà 4 :\n",
    " - Le constructeur par défaut\n",
    " - Le destructeur\n",
    " - Le constructeur de recopie\n",
    " - L'opérateur de copie.\n",
    "\n",
    "Le C++11 ajoute aux 4 premières :\n",
    " - Le constructeur de déplacement\n",
    " - L'opérateur de déplacement\n",
    "\n",
    "Le comportement par défaut pour ces deux opérations est un déplacement membre à membre de la classe.\n",
    "Cependant, les règles de génération se sont un peu plus durcies par rapport à C++98 pour ces deux nouveaux. Pour les 4 premiers, la génération est indépendante, c'est à dire que si on déclare un destructeur, le constructeur de recopie et l'opérateur de copie sont quand même générés. Souvent, ce comportement n'est pas souhaité car si l'on déclare un destructeur, c'est qu'une ressource est détenue par la classe et nécessite une implémentation spéciale pour sa copie. Ce qui à engendré la règle de codage que tous le monde connaît qui est d'implémenter le destructeur, le constructeur de recopie et l'opérateur de copie lorsque la classe alloue une ressource.\n",
    "Avec les deux nouveaux, le problème ne se pose pas car elle ne sont pas générés si l'un des points suivants est vérifié :\n",
    " - Le destructeur est déclaré\n",
    " - Le constructeur de recopie ou l'opérateur de copie est déclaré\n",
    " - Une opération de déplacement est déclaré\n",
    "\n",
    "Pour le dernier point, cela s'explique par le fait que s'il existe une implémentation pour le constructeur de déplacement, alors la génération du comportement par défaut pour l'opérateur de déplacement ne convient pas. Le raisonnement inverse est identique. \n",
    "\n",
    "De plus, si une opération de déplacement est déclarée, les opérations de recopie ne sont pas générées.\n",
    "\n",
    "Ces règles sont importantes. Prenons l'exemple que l'on crée un destructeur pour pouvoir tracer les appels, cette pratique va avoir un effet indésirable car à la place d'utiliser les opérations de déplacement parfaitement valides, le compilateur utilise les opérations de recopie pouvant être beaucoup plus coûteuses. Pour éviter cela, il est possible d'utiliser le mot clé `default` pour signifier que le comportement de déplacement par défaut est valide.\n",
    "\n",
    "Une autre utilisation du mot clé `default` est l'utilisation pour le destructeur virtuel des classes de base. En effet, une règle du C++ impose de déclarer un destructeur virtuel de la classe de base pour permettre la désallocation complète de l'objet lors de l'utilisation de polymorphisme dynamique. Ce destructeur ne fait rien et le comportement par défaut est adapté au besoin."
   ]
  },
  {
   "cell_type": "code",
   "execution_count": 20,
   "metadata": {},
   "outputs": [
    {
     "name": "stdout",
     "output_type": "stream",
     "text": [
      "b7 recopie de buffer\n"
     ]
    },
    {
     "data": {
      "text/plain": []
     },
     "execution_count": 20,
     "metadata": {},
     "output_type": "execute_result"
    }
   ],
   "source": [
    "class BufferCopie\n",
    "{\n",
    "public:\n",
    "    BufferCopie()\n",
    "    {}\n",
    "\n",
    "    BufferCopie(const BufferCopie& b)\n",
    "    {\n",
    "        std::cout << \"recopie de buffer\" << std::endl;\n",
    "    }\n",
    "};\n",
    "\n",
    "class BufferDeplacement\n",
    "{\n",
    "public:\n",
    "    BufferDeplacement()\n",
    "    {}\n",
    "\n",
    "    BufferDeplacement(const BufferDeplacement& b)\n",
    "    {\n",
    "        std::cout << \"recopie de buffer\" << std::endl;\n",
    "    }\n",
    "    \n",
    "    BufferDeplacement(BufferDeplacement&& b) = default;\n",
    "};\n",
    "// Pas de génération du constructeur de déplacement car le constructeur de recopie est défini.\n",
    "// Appel au constructeur de recopie\n",
    "std::cout << \"b7 \";\n",
    "std::make_unique<BufferCopie>(BufferCopie());\n",
    "\n",
    "// Le constructeur de recopie est défini et le constructeur de déplacement est défini avec le comportement par défaut.\n",
    "// Appel au constructeur de déplacement\n",
    "std::cout << \"b8 \";\n",
    "std::make_unique<BufferDeplacement>(BufferDeplacement());\n",
    "\n",
    "// Définition d'une classe interface\n",
    "class INotifier\n",
    "{\n",
    "public:\n",
    "    // Déclaration du destructeur virtuel pour l'appel au destructeur de la classe héritée lors de l'utilisation du \n",
    "    // polymorphisme dynamique\n",
    "    virtual ~INotifier() = default;\n",
    "    virtual void Notify() = 0;\n",
    "};"
   ]
  },
  {
   "cell_type": "markdown",
   "metadata": {},
   "source": [
    "## Comprendre les fonctions supprimés\n",
    "La génération des fonctions membres spéciales est parfois non souhaitée. Par exemple, la copie de classes de gestion d'entrées/sorties n'est pas vraiment un concept définissable : le port d'entrée doit-il être réinitialisé ? ou partagé ? Il est plus simple de d'interdire la copie de telles classes. Le mot-clé `delete` permet d'indiquer qu'une fonction est interdite. "
   ]
  },
  {
   "cell_type": "code",
   "execution_count": 21,
   "metadata": {},
   "outputs": [
    {
     "data": {
      "text/plain": []
     },
     "execution_count": 21,
     "metadata": {},
     "output_type": "execute_result"
    }
   ],
   "source": [
    "class CopieInterdite\n",
    "{\n",
    "public:\n",
    "    CopieInterdite()\n",
    "    {}\n",
    "    CopieInterdite(const CopieInterdite&) = delete;\n",
    "    CopieInterdite& operator=(const CopieInterdite&) = delete;\n",
    "};\n",
    "\n",
    "CopieInterdite A, B;\n",
    "//CopieInterdite C(A);\n",
    "//B = A;"
   ]
  },
  {
   "cell_type": "markdown",
   "metadata": {},
   "source": [
    "## Comprendre les fonctions de substitutions\n",
    "Le langage C++ introduit deux nouveaux mots-clés `override` et `final` pour indiquer explicitement une redéfinition d'une fonction membre virtuelle d'une classe de base. Une erreur de redéfinition provoquera une erreur de compilation. Déclarer les fonctions membres redéfinies à l'aide de ces deux mots-clés est donc une bonne pratique pour repérer les erreurs le plus tôt possible."
   ]
  },
  {
   "cell_type": "code",
   "execution_count": 22,
   "metadata": {},
   "outputs": [
    {
     "name": "stdout",
     "output_type": "stream",
     "text": [
      "Base\n",
      "Derive\n",
      "DeriveFinal\n"
     ]
    },
    {
     "data": {
      "text/plain": [
       "(void) @0x7f156b7fcb18\n"
      ]
     },
     "execution_count": 22,
     "metadata": {},
     "output_type": "execute_result"
    }
   ],
   "source": [
    "class Base\n",
    "{\n",
    "public:\n",
    "    virtual void operation()\n",
    "    {\n",
    "        std::cout << \"Base\" << std::endl;\n",
    "    }\n",
    "};\n",
    "\n",
    "class DeriveFaux : public Base\n",
    "{\n",
    "public:\n",
    "    virtual void operation() const // override // l'ajout du mot-clé provoque une erreur de compilation\n",
    "    {\n",
    "        std::cout << \"DeriveFaux\" << std::endl;\n",
    "    }\n",
    "};\n",
    "\n",
    "class Derive : public Base\n",
    "{\n",
    "public:\n",
    "    virtual void operation() override\n",
    "    {\n",
    "        std::cout << \"Derive\" << std::endl;\n",
    "    }\n",
    "};\n",
    "\n",
    "class DeriveFinal : public Base\n",
    "{\n",
    "public:\n",
    "    virtual void operation() final // ne peut plus être redéfinie dans une classe fille\n",
    "    {\n",
    "        std::cout << \"DeriveFinal\" << std::endl;\n",
    "    }\n",
    "};\n",
    "\n",
    "std::unique_ptr<Base> ptrBase = std::make_unique<DeriveFaux>();\n",
    "ptrBase->operation(); // Sans le mot-clé override, il faut tester toutes les classes dérivées \n",
    "                      // si la signature de la classe de base change.\n",
    "\n",
    "ptrBase = std::make_unique<Derive>();\n",
    "ptrBase->operation();\n",
    "\n",
    "ptrBase = std::make_unique<DeriveFinal>();\n",
    "ptrBase->operation();"
   ]
  },
  {
   "cell_type": "markdown",
   "metadata": {},
   "source": [
    "## Comprendre constexpr\n",
    "Le mot-clé `constexpr` peut s'appliquer aux variables et aux fonctions. Une variable `constexpr` signifie que la variable est constante et connue à la compilation. Elle sera allouée dans la mémoire en lecture seule. Une fonction `constexpr` signifie que la valeur de retour sera connue à la compilation si toutes les valeurs en paramètre de la fonction sont connues lors de la compilation."
   ]
  },
  {
   "cell_type": "code",
   "execution_count": 23,
   "metadata": {},
   "outputs": [
    {
     "name": "stderr",
     "output_type": "stream",
     "text": [
      "Using raw input\n"
     ]
    },
    {
     "data": {
      "text/plain": []
     },
     "execution_count": 23,
     "metadata": {},
     "output_type": "execute_result"
    }
   ],
   "source": [
    ".rawInput"
   ]
  },
  {
   "cell_type": "code",
   "execution_count": 24,
   "metadata": {},
   "outputs": [
    {
     "data": {
      "text/plain": []
     },
     "execution_count": 24,
     "metadata": {},
     "output_type": "execute_result"
    }
   ],
   "source": [
    "class Tool\n",
    "{\n",
    "public:\n",
    "    static std::string DecodeString(const unsigned char* trame, const unsigned int start, const unsigned end)\n",
    "    {\n",
    "        return std::string(trame + start, trame + end);\n",
    "    }\n",
    "};\n",
    "\n",
    "class Trame\n",
    "{\n",
    "protected:\n",
    "    static constexpr unsigned int STX_SIZE = 1U;\n",
    "    static constexpr unsigned int ETX_SIZE = 1U;\n",
    "    static constexpr unsigned int TYPE_SIZE = 1U;\n",
    "    \n",
    "public:\n",
    "    static constexpr char GetType(const unsigned char* trame) noexcept\n",
    "    {\n",
    "        return trame[STX_SIZE];\n",
    "    }\n",
    "};\n",
    "\n",
    "class TextMsg : public Trame\n",
    "{\n",
    "public:\n",
    "    static constexpr unsigned int GetContentStart() noexcept\n",
    "    {\n",
    "        return STX_SIZE + TYPE_SIZE;\n",
    "    }\n",
    "    \n",
    "    static constexpr unsigned int GetContentEnd(const unsigned int trameSize) noexcept\n",
    "    {\n",
    "        return trameSize - ETX_SIZE;\n",
    "    }\n",
    "};\n",
    "\n",
    "constexpr unsigned char HELLO_TRAME[] = {0x02, 0x54, 0x48, 0x45, 0x4C, 0X4C, 0x4F ,0x03};\n",
    "\n",
    "// Constantes définies à la compilation\n",
    "constexpr char HELLO_TYPE = Trame::GetType(HELLO_TRAME);                       // = 'T'\n",
    "constexpr unsigned int HELLO_START = TextMsg::GetContentStart();               // = 2 \n",
    "constexpr unsigned int HELLO_END = TextMsg::GetContentEnd(sizeof(HELLO_TRAME));// = 7\n",
    "\n",
    "// Si la trame change, par exemple avec l'ajout d'un champ au début de la trame, seules les fonctions sont à modifiées. \n",
    "// Les constantes seront automatiquement mis à jour à la compilation.  "
   ]
  },
  {
   "cell_type": "code",
   "execution_count": 25,
   "metadata": {},
   "outputs": [
    {
     "name": "stderr",
     "output_type": "stream",
     "text": [
      "Not using raw input\n"
     ]
    },
    {
     "data": {
      "text/plain": []
     },
     "execution_count": 25,
     "metadata": {},
     "output_type": "execute_result"
    }
   ],
   "source": [
    ".rawInput"
   ]
  },
  {
   "cell_type": "code",
   "execution_count": 26,
   "metadata": {},
   "outputs": [
    {
     "name": "stdout",
     "output_type": "stream",
     "text": [
      "Emission de la trame : T HELLO\n",
      "Réception de la trame : T TEST\n"
     ]
    },
    {
     "data": {
      "text/plain": [
       "(std::basic_ostream<char, std::char_traits<char> >::__ostream_type &) @0x7f157d3a3e40\n"
      ]
     },
     "execution_count": 26,
     "metadata": {},
     "output_type": "execute_result"
    }
   ],
   "source": [
    "// Trace\n",
    "std::cout << \"Emission de la trame : \" << HELLO_TYPE << \" \" << Tool::DecodeString(HELLO_TRAME, HELLO_START, HELLO_END) << std::endl;\n",
    "\n",
    "// Simulation de la réception d'une trame (trame et taille non déclarée constexpr ou const)\n",
    "unsigned char test[] = {0x02, 0x54, 0x54, 0x45, 0x53, 0X54, 0x03};\n",
    "unsigned int lg = sizeof(test);\n",
    "\n",
    "// Appel des fonctions constexpr à l'éxecution\n",
    "std::cout << \"Réception de la trame : \" << Trame::GetType(test) << \" \" << Tool::DecodeString(test, TextMsg::GetContentStart(), TextMsg::GetContentEnd(lg)) << std::endl;\n"
   ]
  },
  {
   "cell_type": "markdown",
   "metadata": {},
   "source": [
    "__Remarque__: En C++11, une fonction `constexpr` est limitée à une seule instruction return (pas de condition, pas de boucle). Cette limitation a été levée en C++14."
   ]
  },
  {
   "cell_type": "markdown",
   "metadata": {},
   "source": [
    "## Comprendre noexcept\n",
    "Le fait de déclarer une fonction `noexcept` indique au developpeur appelant que la fonction n'émet pas d'exception. Les avantages de déclarer une fonction `noexcept` sont :\n",
    " - de connaître sa sûreté face aux exceptions\n",
    " - d'optimiser le code de la fonction (Le compilateur ne générera pas le code de restauration de la pile suite à une interruption). \n",
    "\n",
    "La connaissance de la sureté d'une fonction face aux exceptions est intéressante notamment pour les opérations de déplacement. Contrairement aux opérations de recopie, si une exception intervient lors d'un déplacement d'un objet, il n'est pas possible de revenir en arrière : une partie des attributs ont été déplacée dans une autre zone mémoire. Il est donc indispensable d'appeler des fonctions `noexcept` dans les opérations de déplacement."
   ]
  },
  {
   "cell_type": "code",
   "execution_count": 27,
   "metadata": {},
   "outputs": [
    {
     "name": "stdout",
     "output_type": "stream",
     "text": [
      "recopie DeplacementNoExcept\n",
      "\n",
      "Réallocation du vecteur : déplacement des éléments précédents si l'opération de déplacement ne renvoie pas d'exception : \n",
      "recopie DeplacementNoExcept\n",
      "deplacement DeplacementNoExcept\n",
      "\n",
      "\n",
      "recopie Deplacement\n",
      "\n",
      "Réallocation du vecteur : déplacement des éléments précédents si l'opération de déplacement ne renvoie pas d'exception : \n",
      "recopie Deplacement\n",
      "recopie Deplacement\n"
     ]
    },
    {
     "data": {
      "text/plain": [
       "(void) @0x7f156b7fcb18\n"
      ]
     },
     "execution_count": 27,
     "metadata": {},
     "output_type": "execute_result"
    }
   ],
   "source": [
    "class DeplacementNoExcept\n",
    "{\n",
    "public:\n",
    "    DeplacementNoExcept()\n",
    "    {}\n",
    "    \n",
    "    DeplacementNoExcept(const DeplacementNoExcept&)\n",
    "    {\n",
    "        std::cout << \"recopie DeplacementNoExcept\" << std::endl;\n",
    "    }\n",
    "    \n",
    "    DeplacementNoExcept(DeplacementNoExcept&&) noexcept\n",
    "    {\n",
    "        std::cout << \"deplacement DeplacementNoExcept\" << std::endl;\n",
    "    }\n",
    "};\n",
    "\n",
    "class Deplacement\n",
    "{\n",
    "public:\n",
    "    Deplacement()\n",
    "    {}\n",
    "    \n",
    "    Deplacement(const Deplacement&)\n",
    "    {\n",
    "        std::cout << \"recopie Deplacement\" << std::endl;\n",
    "    }\n",
    "    \n",
    "    Deplacement(Deplacement&&) \n",
    "    {\n",
    "        std::cout << \"deplacement Deplacement\" << std::endl;\n",
    "    }\n",
    "};\n",
    "\n",
    "std::vector<DeplacementNoExcept> v1;\n",
    "DeplacementNoExcept dne;\n",
    "v1.push_back(dne);\n",
    "v1.shrink_to_fit();\n",
    "std::cout << std::endl;\n",
    "std::cout << \"Réallocation du vecteur : déplacement des éléments précédents si l'opération de déplacement ne renvoie pas d'exception : \" << std::endl;\n",
    "v1.push_back(dne);\n",
    "\n",
    "std::cout << std::endl << std::endl;\n",
    "\n",
    "std::vector<Deplacement> v2;\n",
    "Deplacement d;\n",
    "v2.push_back(d);\n",
    "v2.shrink_to_fit();\n",
    "std::cout << std::endl;\n",
    "std::cout << \"Réallocation du vecteur : déplacement des éléments précédents si l'opération de déplacement ne renvoie pas d'exception : \" << std::endl;\n",
    "v2.push_back(d);\n"
   ]
  },
  {
   "cell_type": "markdown",
   "metadata": {},
   "source": [
    "__Remarque 1__: Les conteneurs de la STL tirent partie de la déclaration `noexcept` sur les opérations de déplacement pour optimiser leur gestion.\n",
    "\n",
    "__Remarque 2__: Il est possible de déclarer une fonction `noexcept` qui appelle des fonctions qui ne sont pas déclarées `noexcept` pour conserver la compatibilité avec les fonctions de la librairie C ou les anciennes fonctions C++98. Le compilateur ne générera pas d'erreur.\n",
    "\n",
    "__Remarque 3__: Déclarer une fonction `noexcept` qui émet/laisse passer une exception provoquera la terminaison du programme. L'exception ne peut pas être *catchée* par le code appelant.\n",
    "\n",
    "__Remarque 4__: Les destructeurs sont déclarés `noexcept` par nature (règle du langage). Il est inutile de les déclarer `noexcept`."
   ]
  },
  {
   "cell_type": "markdown",
   "metadata": {},
   "source": [
    "## Comprendre using\n",
    "Le mot-clé `using` permet d'écrire un `typedef` de manière simplifiée pour les template et les pointeurs de fonctions."
   ]
  },
  {
   "cell_type": "code",
   "execution_count": 28,
   "metadata": {},
   "outputs": [
    {
     "name": "stderr",
     "output_type": "stream",
     "text": [
      "Using raw input\n"
     ]
    },
    {
     "data": {
      "text/plain": []
     },
     "execution_count": 28,
     "metadata": {},
     "output_type": "execute_result"
    }
   ],
   "source": [
    ".rawInput"
   ]
  },
  {
   "cell_type": "code",
   "execution_count": 29,
   "metadata": {},
   "outputs": [
    {
     "data": {
      "text/plain": []
     },
     "execution_count": 29,
     "metadata": {},
     "output_type": "execute_result"
    }
   ],
   "source": [
    "#include <queue>\n",
    "#include <stack>\n",
    "\n",
    "// typedef\n",
    "typedef int (*fonction_ptr_t1)(int, int);\n",
    "\n",
    "template <typename T>\n",
    "class container_types\n",
    "{\n",
    "public:\n",
    "    typedef std::queue<T> fifo_t;\n",
    "    typedef std::stack<T> lifo_t;\n",
    "};\n",
    "\n",
    "// using\n",
    "using fonction_ptr_t2 = int (*)(int, int);\n",
    "\n",
    "template <typename T>\n",
    "using fifo_t = std::queue<T>;\n",
    "\n",
    "template <typename T>\n",
    "using lifo_t = std::stack<T>;"
   ]
  },
  {
   "cell_type": "code",
   "execution_count": 30,
   "metadata": {},
   "outputs": [
    {
     "name": "stderr",
     "output_type": "stream",
     "text": [
      "Not using raw input\n"
     ]
    },
    {
     "data": {
      "text/plain": []
     },
     "execution_count": 30,
     "metadata": {},
     "output_type": "execute_result"
    }
   ],
   "source": [
    ".rawInput"
   ]
  },
  {
   "cell_type": "code",
   "execution_count": 31,
   "metadata": {},
   "outputs": [
    {
     "data": {
      "text/plain": []
     },
     "execution_count": 31,
     "metadata": {},
     "output_type": "execute_result"
    }
   ],
   "source": [
    "int fonction(int, int)\n",
    "{\n",
    "    return 0;\n",
    "}\n",
    "\n",
    "fonction_ptr_t1 fct1 = &fonction;\n",
    "fonction_ptr_t2 fct2 = &fonction;\n",
    "\n",
    "// typedef\n",
    "typename container_types<int>::fifo_t file1;\n",
    "\n",
    "// using\n",
    "fifo_t<int> file2;"
   ]
  },
  {
   "cell_type": "markdown",
   "metadata": {},
   "source": [
    "## Comprendre decltype\n",
    "Le mot-clé `decltype` renvoie presque toujours le type de l'expression passée en paramètre. (*presque* car si par exemple, l'expression en paramètre est une expression *complexe*, le type retourné peut-être une lvalue c'est-à-dire type&).\n",
    "Le mot-clé `decltype` est principalement utilisé avec le mot-clé `auto` pour le retour des fonctions template ou les expressions lambdas. "
   ]
  },
  {
   "cell_type": "code",
   "execution_count": 32,
   "metadata": {},
   "outputs": [
    {
     "data": {
      "text/plain": []
     },
     "execution_count": 32,
     "metadata": {},
     "output_type": "execute_result"
    }
   ],
   "source": [
    "int CONSTANTE = 0;\n",
    "\n",
    "// Pas de surprise, decltype renvoie le type de l'expression\n",
    "using constante_t = decltype(CONSTANTE);      // int\n",
    "using fonction_ptr_t3 = decltype(&fonction);  // int (*)(int, int)"
   ]
  },
  {
   "cell_type": "code",
   "execution_count": 33,
   "metadata": {},
   "outputs": [
    {
     "name": "stderr",
     "output_type": "stream",
     "text": [
      "Using raw input\n"
     ]
    },
    {
     "data": {
      "text/plain": []
     },
     "execution_count": 33,
     "metadata": {},
     "output_type": "execute_result"
    }
   ],
   "source": [
    ".rawInput"
   ]
  },
  {
   "cell_type": "code",
   "execution_count": 34,
   "metadata": {},
   "outputs": [
    {
     "data": {
      "text/plain": []
     },
     "execution_count": 34,
     "metadata": {},
     "output_type": "execute_result"
    }
   ],
   "source": [
    "template <typename ContainerT, typename IndexT>\n",
    "//typename std::decay<ContainerT>::type::value_type AccessWithIntegrityCheck1(ContainerT&& container, IndexT index) // C++11\n",
    "auto AccessWithIntegrityCheck1(ContainerT&& container, IndexT index) // syntaxe simplifié du C++14\n",
    "{\n",
    "    //CheckIntegrity(std::forward<ContainerT>(container));\n",
    "    return std::forward<ContainerT>(container)[index];\n",
    "}\n",
    "\n",
    "template <typename ContainerT, typename IndexT>\n",
    "//typename std::decay<ContainerT>::type::reference AccessWithIntegrityCheck2(ContainerT&& container, IndexT index) // C++11\n",
    "auto& AccessWithIntegrityCheck2(ContainerT&& container, IndexT index) // syntaxe simplifié du C++14\n",
    "{\n",
    "    //CheckIntegrity(std::forward<ContainerT>(container));\n",
    "    return std::forward<ContainerT>(container)[index];\n",
    "}\n",
    "\n",
    "template <typename ContainerT, typename IndexT>\n",
    "//auto AccessWithIntegrityCheck3(ContainerT&& container, IndexT index) -> decltype(std::forward<ContainerT>(container)[index]) //C++11\n",
    "decltype(auto) AccessWithIntegrityCheck3(ContainerT&& container, IndexT index) // syntaxe simplifié du C++14\n",
    "{\n",
    "    //CheckIntegrity(std::forward<ContainerT>(container));\n",
    "    return std::forward<ContainerT>(container)[index];\n",
    "}"
   ]
  },
  {
   "cell_type": "code",
   "execution_count": 35,
   "metadata": {},
   "outputs": [
    {
     "name": "stderr",
     "output_type": "stream",
     "text": [
      "Not using raw input\n"
     ]
    },
    {
     "data": {
      "text/plain": []
     },
     "execution_count": 35,
     "metadata": {},
     "output_type": "execute_result"
    }
   ],
   "source": [
    ".rawInput"
   ]
  },
  {
   "cell_type": "code",
   "execution_count": 36,
   "metadata": {},
   "outputs": [
    {
     "data": {
      "text/plain": []
     },
     "execution_count": 36,
     "metadata": {},
     "output_type": "execute_result"
    }
   ],
   "source": [
    "std::vector<int> ids = {1, 2, 3, 4, 5};\n",
    "//AccessWithIntegrityCheck1(ids, 2) = 6; // Ne compile pas car le retour n'est pas une lvalue\n",
    "AccessWithIntegrityCheck2(ids, 2) = 6;\n",
    "AccessWithIntegrityCheck3(ids, 2) = 6;\n",
    "\n",
    "std::vector<bool> flags = {false, false, true, false, false};\n",
    "bool f1 = AccessWithIntegrityCheck1(flags, 2); \n",
    "//bool f2 = AccessWithIntegrityCheck2(flags, 2); // Ne compile pas car le type vector<bool> est optimisé \n",
    "                                                 // au niveau mémoire pour occuper qu'un seul bit par valeur.\n",
    "                                                 // L'operator[] renvoit une rvalue dans ce cas présent.\n",
    "bool f3 = AccessWithIntegrityCheck3(flags, 2);\n",
    "\n"
   ]
  },
  {
   "cell_type": "markdown",
   "metadata": {},
   "source": [
    "## Comprendre enum class\n",
    "Un problème des enumérations en C++ est la pollution de l'espace de nom. On distingue maintenant les énumérations non délimités (enum en C++98) et les énumérations délimités déclarées avec les mots-clés `enum class`. Les énumérations délimités ne sont accessibles qu'à l'intérieur de leur espace de nom. En C++11, il est également possible de déclarer le type sous-jacent pour les enumérations délimitées et non délimitées permettant d'optimiser l'espace mémoire. Le cast des énumérations délimitées est limité à son type sous-jacent et doit être fait de manière explicite."
   ]
  },
  {
   "cell_type": "code",
   "execution_count": 37,
   "metadata": {},
   "outputs": [
    {
     "data": {
      "text/plain": []
     },
     "execution_count": 37,
     "metadata": {},
     "output_type": "execute_result"
    }
   ],
   "source": [
    "enum class EtatSysteme : std::uint8_t // place en mémoire  = 1 octet à la place de 4 octets\n",
    "{\n",
    "    Ok,\n",
    "    EnPanne\n",
    "};\n",
    "\n",
    "enum class EtatCommunication : uint8_t \n",
    "{\n",
    "    Ok,\n",
    "    EnPanne\n",
    "};\n",
    "\n",
    "// Il n'y a pas de doublon de valeurs, les valeurs sont déclarées dans des espaces de nom différents\n",
    "EtatSysteme sys = EtatSysteme::Ok;\n",
    "EtatCommunication com = EtatCommunication::EnPanne;"
   ]
  },
  {
   "cell_type": "code",
   "execution_count": 38,
   "metadata": {},
   "outputs": [
    {
     "data": {
      "text/plain": []
     },
     "execution_count": 38,
     "metadata": {},
     "output_type": "execute_result"
    }
   ],
   "source": [
    "#include <bitset>\n",
    "\n",
    "template <typename E>\n",
    "constexpr auto enum_cast(E enumerator) noexcept\n",
    "{\n",
    "    return static_cast<std::underlying_type_t<E>>(enumerator);\n",
    "}\n",
    "\n",
    "enum class ErrorEnum : uint8_t \n",
    "{\n",
    "    MotorFailure       = 0,\n",
    "    CableDeconnection  = 1,\n",
    "    CameraFailure      = 2,\n",
    "    MicroProgCorrupted = 3\n",
    "};"
   ]
  },
  {
   "cell_type": "code",
   "execution_count": 39,
   "metadata": {},
   "outputs": [
    {
     "name": "stdout",
     "output_type": "stream",
     "text": [
      "00000100\n"
     ]
    },
    {
     "data": {
      "text/plain": [
       "(std::basic_ostream<char, std::char_traits<char> >::__ostream_type &) @0x7f157d3a3e40\n"
      ]
     },
     "execution_count": 39,
     "metadata": {},
     "output_type": "execute_result"
    }
   ],
   "source": [
    "constexpr std::size_t FlagSize = 8U * sizeof(ErrorEnum);\n",
    "std::bitset<FlagSize> ErrorFlag;\n",
    "\n",
    "ErrorFlag.set(enum_cast(ErrorEnum::CameraFailure)); // Cast explicite pour obtenir la valeur sous-jacente\n",
    "std::cout << ErrorFlag << std::endl;"
   ]
  },
  {
   "cell_type": "markdown",
   "metadata": {},
   "source": [
    "## Comprendre les initializers\n",
    "Le langage C++11 introduit un nouveau type pour l'initialisation des objets : `std::initializer_list<T>`. Son instanciation s'écrit simplement avec les accolades `{}`."
   ]
  },
  {
   "cell_type": "code",
   "execution_count": 40,
   "metadata": {},
   "outputs": [
    {
     "name": "stdout",
     "output_type": "stream",
     "text": [
      "1\n",
      "1\n"
     ]
    },
    {
     "data": {
      "text/plain": [
       "(std::basic_ostream<char, std::char_traits<char> >::__ostream_type &) @0x7f157d3a3e40\n"
      ]
     },
     "execution_count": 40,
     "metadata": {},
     "output_type": "execute_result"
    }
   ],
   "source": [
    "// initialiser un vecteur\n",
    "std::vector<std::string> strVector = {\"un\", \"deux\", \"trois\"};\n",
    "// initialiser un tableau\n",
    "std::array<int,3> intArray({1, 2, 3});\n",
    "\n",
    "// Attention à la déduction de type\n",
    "auto values = {1, 2, 3};\n",
    "auto expr = [](auto&& container, std::size_t index) { return std::forward<decltype(container)>(container)[index]; };\n",
    "std::cout << expr(intArray, 0) << std::endl;\n",
    "std::cout << expr(static_cast<std::vector<int>>(values), 0) << std::endl;"
   ]
  },
  {
   "cell_type": "markdown",
   "metadata": {},
   "source": [
    "__Remarque__: Le type d'un objet `{}` est `std::initializer_list<T>`. La déduction de type `auto` ou `template` necessitera parfois d'expliciter le type cible pour obtenir le bon type."
   ]
  }
 ],
 "metadata": {
  "kernelspec": {
   "display_name": "C++17",
   "language": "C++",
   "name": "cling-cpp17"
  },
  "language_info": {
   "codemirror_mode": "c++",
   "file_extension": ".c++",
   "mimetype": "text/x-c++src",
   "name": "c++"
  }
 },
 "nbformat": 4,
 "nbformat_minor": 2
}
