{
 "cells": [
  {
   "cell_type": "markdown",
   "metadata": {},
   "source": [
    "# Vers un C++ moderne\n",
    "Le C++11 a dépoussiéré le langage C++, en assumant sa différence par rapport aux autres langages objets et il s'est éloigné de son héritage du langage C.\n",
    "\n",
    "## Différences par rapport aux autres langages objets\n",
    "Le langage C++ a fait le choix d'introduire dès le début, le concept de template. Ce concept a permis aux développeurs d'imaginer une autre façon de programmer les objets et de créer des librairies flexibles et performantes (*Modern C++ design, Andrei Alexandrescu*). La création de la librairie BOOST est l'exemple de la mise en application des nouveaux concepts et la base qui a permis la création des nouveaux standards C++11, 14, 17, 20, ...\n",
    "L'idée générale est le concept de \"polymorphisme statique\", c'est à dire qu'à l'instar du polymorphisme dynamique, le type d'un objet n'est pas défini au moment de l'implémentation. Par contre, il est défini au moment de la compilation (permettant ainsi une exécution plus rapide et de conserver la sécurité du typage).\n",
    "Cette manière de programmer a permis l'émergence de concepts aux noms barbares :\n",
    " - Curiously recurring template pattern\n",
    " - Template Metaprogramming\n",
    " - SFINAE “Substitution Failure Is Not An Error” \n",
    " \n",
    "Le C++11 va introduire de nouveaux mots-clés afin de faciliter la mise en place de ces concepts.\n",
    "\n",
    "## Alternatives aux langages C\n",
    "Sous sa forme 98, le langage C++ conserve un certains nombres de notions du langage C :\n",
    " - typedef\n",
    " - macros, NULL\n",
    " - enum\n",
    " - union\n",
    " - tableaux\n",
    " - ...\n",
    " \n",
    "En C++11, des mots-clés ont été ajoutés afin de mieux répondre aux nouvelles exigences du langage et d'assurer une meilleur sureté en terme de typage.\n"
   ]
  },
  {
   "cell_type": "markdown",
   "metadata": {},
   "source": [
    "# Objectifs de la présentation\n",
    "Il est évident que l'on ne pourra pas faire le tour de toutes les nouveautés. On s'intéressera aux évolutions majeures et surtout à leurs bonnes pratiques à travers des exemples."
   ]
  },
  {
   "cell_type": "code",
   "execution_count": null,
   "metadata": {},
   "outputs": [],
   "source": []
  }
 ],
 "metadata": {
  "kernelspec": {
   "display_name": "C++1z",
   "language": "C++",
   "name": "cling-cpp1z"
  },
  "language_info": {
   "codemirror_mode": "c++",
   "file_extension": ".c++",
   "mimetype": "text/x-c++src",
   "name": "c++"
  }
 },
 "nbformat": 4,
 "nbformat_minor": 2
}
